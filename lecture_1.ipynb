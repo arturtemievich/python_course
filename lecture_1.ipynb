{
 "cells": [
  {
   "cell_type": "markdown",
   "metadata": {},
   "source": [
    "# Lecture 1: Data Types and Operators. Conditions and If Statements.\n",
    "\n",
    "> Data types\n",
    "\n",
    "> Mathematical operations\n",
    "\n",
    "> Assignment operators\n",
    "\n",
    "> Conditions and if statements\n",
    "\n",
    "> Exercises"
   ]
  },
  {
   "cell_type": "markdown",
   "metadata": {},
   "source": [
    "### Data types"
   ]
  },
  {
   "cell_type": "code",
   "execution_count": null,
   "metadata": {},
   "outputs": [],
   "source": [
    "\"\"\"Data Types\n",
    "\n",
    "Logical: bool\n",
    "Numeric: int, float, complex\n",
    "Text:    str (string)\n",
    "\"\"\"\n",
    "\n",
    "# Logical (Boolean):\n",
    "print(type(True))    # bool\n",
    "print(type(False))   # bool\n",
    "\n",
    "# Numeric:\n",
    "print(type(5))       # int (integer)\n",
    "print(type(3.14))    # float\n",
    "print(type(1 + 2j))  # complex\n",
    "\n",
    "# Text:\n",
    "print(type('a'))     # str\n",
    "print(type(\"a\"))     # str"
   ]
  },
  {
   "cell_type": "code",
   "execution_count": null,
   "metadata": {},
   "outputs": [],
   "source": [
    "\"\"\"Mathematical operations\n",
    "\n",
    "Addition:       \"+\"  # adds the values on either side of the operator.\n",
    "Substraction:   \"-\"  # subtracts the value on the right from the one on the left.\n",
    "Multiplication: \"*\"  # multiplies the values on either side of the operator.\n",
    "Division:       \"/\"  # divides the value on the left by the one on the right.\n",
    "\n",
    "Exponentiation: \"**\" # raises the first number to the power of the second.\n",
    "Floor Division: \"//\" # divides and returns the integer value of the quotient.\n",
    "Modulus:        \"%\"  # divides and returns the value of the remainder.\n",
    "\"\"\"\n",
    "\n",
    "# int and int, float and float, int and float, float and int\n",
    "print(5 + 3)\n",
    "print(5 - 3)\n",
    "print(5 * 3)\n",
    "print(5 / 3)\n",
    "\n",
    "print()\n",
    "print(5 ** 3)\n",
    "print(5 // 3)\n",
    "print(5 % 3)"
   ]
  },
  {
   "cell_type": "code",
   "execution_count": null,
   "metadata": {},
   "outputs": [],
   "source": [
    "# True = 1, False = 0\n",
    "\n",
    "print(True + True)\n",
    "print(True - True)\n",
    "\n",
    "print()\n",
    "print(5 + True)\n",
    "print(5 - True)\n",
    "print(5.1 + False)\n",
    "print(True + False)"
   ]
  },
  {
   "cell_type": "code",
   "execution_count": null,
   "metadata": {},
   "outputs": [],
   "source": [
    "print(5 / False)\n",
    "print(5 // False)\n",
    "print(5 % False)"
   ]
  },
  {
   "cell_type": "code",
   "execution_count": null,
   "metadata": {},
   "outputs": [],
   "source": [
    "print(5 + 5 + 5)\n",
    "print(5 * 3)"
   ]
  },
  {
   "cell_type": "code",
   "execution_count": null,
   "metadata": {},
   "outputs": [],
   "source": [
    "print(\"name\" + \"name\" + \"name\")\n",
    "print(\"name\" * 3)"
   ]
  },
  {
   "cell_type": "code",
   "execution_count": null,
   "metadata": {},
   "outputs": [],
   "source": [
    "# str and str\n",
    "\n",
    "# print(\"name\" + \"surname\")\n",
    "# print(\"name\" - \"surname\")\n",
    "# print()\n",
    "\n",
    "# # str and int: *\n",
    "# print(\"name\" + \"name\" + \"name\" + \"name\")\n",
    "# print(4 * \"name\")\n",
    "\n",
    "# print(\"name\" ** 3)\n",
    "\n",
    "# str and float: *\n",
    "# print(\"name\" + \"name\" + \"name\" + \"name\")\n",
    "# print(\"name\" * 3.5)  # namenamenamena\n",
    "\n",
    "# str and bool: *\n",
    "print(\"name\" + \"name\" + \"name\" + \"name\")\n",
    "print(\"name\" * True)\n",
    "print(\"name\" * False)\n",
    "print(type(\"name\" * False))"
   ]
  },
  {
   "cell_type": "code",
   "execution_count": null,
   "metadata": {},
   "outputs": [],
   "source": [
    "print(5 / 3)\n",
    "print(type(5 / 3))\n",
    "\n",
    "print()\n",
    "print(6 / 3)\n",
    "print(type(6 / 3))\n",
    "\n",
    "print()\n",
    "print(6 // 3)\n",
    "print(type(6 // 3))\n",
    "\n",
    "print()\n",
    "print(5 // 3)\n",
    "print(type(5 // 3))"
   ]
  },
  {
   "cell_type": "code",
   "execution_count": null,
   "metadata": {},
   "outputs": [],
   "source": [
    "print(type(0), type(0.0))"
   ]
  },
  {
   "cell_type": "code",
   "execution_count": null,
   "metadata": {},
   "outputs": [],
   "source": [
    "print(0 // 3)\n",
    "print(type(0 // 3))\n",
    "\n",
    "print()\n",
    "print(0 / 3)\n",
    "print(type(0 / 3))"
   ]
  },
  {
   "cell_type": "code",
   "execution_count": null,
   "metadata": {},
   "outputs": [],
   "source": []
  },
  {
   "cell_type": "code",
   "execution_count": null,
   "metadata": {},
   "outputs": [],
   "source": [
    "print(5.1 + 3.1)\n",
    "print(5.1 - 3.1)\n",
    "print(5.1 * 3.1)\n",
    "print(5.1 / 3.1)\n",
    "\n",
    "print(5.1 // 3.1)\n",
    "print(5.1 % 3.1)"
   ]
  },
  {
   "cell_type": "code",
   "execution_count": null,
   "metadata": {},
   "outputs": [],
   "source": [
    "# program 1\n",
    "print(5 + 4)\n",
    "print(5 - 4)\n",
    "print(5 * 4)\n",
    "print(5 / 4)\n",
    "print(5 // 4)\n",
    "print(5 % 4)"
   ]
  },
  {
   "cell_type": "code",
   "execution_count": null,
   "metadata": {},
   "outputs": [],
   "source": [
    "# int a = 5; --- статическая  типизация\n",
    "# a = 5      --- динамическая типизация"
   ]
  },
  {
   "cell_type": "code",
   "execution_count": null,
   "metadata": {},
   "outputs": [],
   "source": [
    "# program 2\n",
    "a = 5  # variable\n",
    "b = 4\n",
    "\n",
    "print(a + b)  # print(5 + 3) -> print(8)\n",
    "print(a - b)\n",
    "print(a * b)\n",
    "print(a / b)\n",
    "print(a // b)\n",
    "print(a % b)"
   ]
  },
  {
   "cell_type": "code",
   "execution_count": null,
   "metadata": {},
   "outputs": [],
   "source": [
    "\"\"\"Assignment Operators\n",
    "Operators are used to perform operations on values and variables.\n",
    "\n",
    "Assign:             \"=\"\n",
    "Description:        Assign value of right side of expression to left side operand\n",
    "Syntax:             x = y + z\n",
    "\n",
    "Add and Assign:     \"+=\"\n",
    "Description:        Add and Assign: Add right side operand with left side operand and then assign to left operand\n",
    "Syntax:             a += b\n",
    "\n",
    "Subtract:           \"-=\"\n",
    "Description:        Subtract right operand from left operand and then assign to left operand\n",
    "Syntax:             a -= b\n",
    "\n",
    "Multiply:           \"*=\"\n",
    "Description:        Multiply right operand with left operand and then assign to left operand\n",
    "Syntax:             a *= b\n",
    "\n",
    "Divide:             \"/=\"\n",
    "Description:        Divide left operand with right operand and then assign to left operand\n",
    "Syntax:             a /= b\n",
    "\n",
    "Exponent:           \"**=\"\n",
    "Description:        Calculate exponent(raise power) value using operands and assign value to left operand\n",
    "Syntax:             a **= b\n",
    "\n",
    "Divide (floor):     \"//=\"\n",
    "Description:        Divide left operand with right operand and then assign the value(floor) to left operand\n",
    "Syntax:             a //= b\n",
    "\n",
    "Modulus:            \"%=\"\n",
    "Description:        Takes modulus using left and right operands and assign result to left operand\n",
    "Syntax:             a %= b\n",
    "\"\"\"\n",
    "\n",
    "number = 6\n",
    "number -= 5\n",
    "print(number)\n",
    "\n",
    "# and so on"
   ]
  },
  {
   "cell_type": "code",
   "execution_count": null,
   "metadata": {},
   "outputs": [],
   "source": [
    "salary = 10   # month salary\n",
    "print(salary)\n",
    "\n",
    "# salary = salary * 1.2\n",
    "# print(salary)\n",
    "\n",
    "salary *= 1.2\n",
    "print(salary)"
   ]
  },
  {
   "cell_type": "code",
   "execution_count": null,
   "metadata": {},
   "outputs": [],
   "source": [
    "salary = 10   # month salary\n",
    "\n",
    "salary = salary * 12\n",
    "print(salary)"
   ]
  },
  {
   "cell_type": "code",
   "execution_count": null,
   "metadata": {},
   "outputs": [],
   "source": [
    "salary = 10   # month salary\n",
    "\n",
    "salary *= 12  # year salary\n",
    "print(salary)"
   ]
  },
  {
   "cell_type": "code",
   "execution_count": null,
   "metadata": {},
   "outputs": [],
   "source": [
    "salary = 120  # year salary\n",
    "\n",
    "# month salary\n",
    "salary //= 12\n",
    "\n",
    "print(salary)"
   ]
  },
  {
   "cell_type": "markdown",
   "metadata": {},
   "source": [
    "### Conditions and if statements"
   ]
  },
  {
   "cell_type": "code",
   "execution_count": null,
   "metadata": {},
   "outputs": [],
   "source": [
    "\"\"\"Conditions\n",
    "\n",
    "Python supports the usual logical conditions from mathematics:\n",
    "\n",
    "Equals:                   a == b\n",
    "Not Equals:               a != b\n",
    "Less than:                a < b\n",
    "Less than or equal to:    a <= b\n",
    "Greater than:             a > b\n",
    "Greater than or equal to: a >= b\n",
    "\n",
    "Return: True or False\n",
    "\"\"\"\n",
    "\n",
    "print(5 == 6)\n",
    "print(5 != 6)\n",
    "print(5 < 6)\n",
    "\n",
    "# and so on"
   ]
  },
  {
   "cell_type": "code",
   "execution_count": null,
   "metadata": {},
   "outputs": [],
   "source": [
    "a, b = 33, 200\n",
    "print(a)\n",
    "print(b)"
   ]
  },
  {
   "cell_type": "code",
   "execution_count": null,
   "metadata": {},
   "outputs": [],
   "source": [
    "\"\"\"if statements\n",
    "An 'if statement' is written by using the 'if' keyword.\n",
    "\n",
    "Indentation:\n",
    "Python relies on indentation (whitespace at the beginning of a line) to define scope in the code. \n",
    "Other programming languages often use curly-brackets '{}' for this purpose.\n",
    "\n",
    "If statement, without indentation (will raise an error)!\n",
    "\"\"\"\n",
    "\n",
    "# example\n",
    "a, b = 33, 200\n",
    "\n",
    "# a = 33\n",
    "# b = 200\n",
    "\n",
    "if b > a:\n",
    "    print(f\"{b} is greater than {a}\")\n",
    "    print(b - a)\n",
    "    print(a + b)"
   ]
  },
  {
   "cell_type": "code",
   "execution_count": null,
   "metadata": {},
   "outputs": [],
   "source": [
    "\"\"\" elif (else if) keyword\n",
    "The 'elif' keyword is pythons way of saying \"if the previous conditions were not true, then try this condition\".\n",
    "\"\"\"\n",
    "\n",
    "a, b = 34, 33\n",
    "\n",
    "if b > a:\n",
    "    print(f\"{b} is greater than {a}\")\n",
    "elif a == b:  # else if\n",
    "    print(f\"{a} and {b} are equal\")\n",
    "\n",
    "# print(\"Hello!\")"
   ]
  },
  {
   "cell_type": "code",
   "execution_count": null,
   "metadata": {},
   "outputs": [],
   "source": [
    "\"\"\" else keyword\n",
    "The 'else' keyword catches anything which isn't caught by the preceding conditions.\n",
    "\"\"\"\n",
    "\n",
    "a, b = 200, 200\n",
    "\n",
    "if b > a:  # False\n",
    "    print(\"b is greater than a\")\n",
    "elif a == b:    # False\n",
    "    print(\"a and b are equal\")\n",
    "elif a == 200:  # False\n",
    "    print(\"a and b are equal\")\n",
    "else:  # иначе\n",
    "    print(\"a is greater than b\")"
   ]
  },
  {
   "cell_type": "code",
   "execution_count": null,
   "metadata": {},
   "outputs": [],
   "source": [
    "# You can also have an 'else' without the 'elif'\n",
    "\n",
    "a = 200\n",
    "b = 33\n",
    "if b > a:\n",
    "    print(\"b is greater than a\")\n",
    "else:\n",
    "    print(\"b is not greater than a\")"
   ]
  },
  {
   "cell_type": "code",
   "execution_count": null,
   "metadata": {},
   "outputs": [],
   "source": [
    "a = 1\n",
    "b = 2\n",
    "c = 5\n",
    "\n",
    "if a <= b <= c:\n",
    "    print(\"YES1!\")\n",
    "    \n",
    "if a <= b and b <= c:  # True or True = True\n",
    "    print(\"YES2!\")"
   ]
  },
  {
   "cell_type": "code",
   "execution_count": null,
   "metadata": {},
   "outputs": [],
   "source": [
    "\"\"\"and/or keyword\n",
    "The 'and' keyword and 'or' keyword are logical operators, and are used to combine conditional statements\n",
    "\"\"\"\n",
    "\n",
    "# Example 1: 'and' keyword\n",
    "a = 200\n",
    "b = 33\n",
    "c = 500\n",
    "if a > b and c > a:\n",
    "    print(\"Both conditions are True\")"
   ]
  },
  {
   "cell_type": "code",
   "execution_count": null,
   "metadata": {},
   "outputs": [],
   "source": [
    "# Example 2: 'or' keyword\n",
    "a = 200\n",
    "b = 33\n",
    "c = 500\n",
    "if a > b or a > c:\n",
    "    print(\"At least one of the conditions is True\")"
   ]
  },
  {
   "cell_type": "code",
   "execution_count": null,
   "metadata": {},
   "outputs": [],
   "source": [
    "# syntax (grammar) of python language"
   ]
  },
  {
   "cell_type": "markdown",
   "metadata": {},
   "source": [
    "### Exercises"
   ]
  },
  {
   "cell_type": "code",
   "execution_count": null,
   "metadata": {},
   "outputs": [],
   "source": [
    "\"\"\"1. Celsius and Fahrenheit Converter\n",
    "\n",
    "Description: To convert temperature between Fahrenheit to Celsius and Celsius to Fahrenheit\n",
    "\"\"\""
   ]
  },
  {
   "cell_type": "code",
   "execution_count": null,
   "metadata": {},
   "outputs": [],
   "source": [
    "\"\"\"2. Road tax\n",
    "Description: Write a program to accept the cost price of a bike and\n",
    "             display the road tax to be paid according to the following criteria.\n",
    "    \n",
    "Cost price (in Rs)                Tax\n",
    "   > 100_000                      15%\n",
    "   > 50_000 and <= 100_000        10%\n",
    "   <= 50_000                      5%\n",
    "\"\"\""
   ]
  },
  {
   "cell_type": "code",
   "execution_count": null,
   "metadata": {},
   "outputs": [],
   "source": [
    "\"\"\"3. Data Format (Yandex Contest)\n",
    "\n",
    "Description:\n",
    "As you know, there are two most common date formats:\n",
    "- European (first day, then month, then year)\n",
    "- American (first month, then day, then year)\n",
    "\n",
    "The system administrator changed the date on one of the backups and now wants to return the date back.\n",
    "But he did not check what format the date is in the system.\n",
    "\n",
    "In other words, you are given a record of some correct date.\n",
    "It is required to find out whether the date is uniquely determined from this record.\n",
    "\n",
    "INPUT:\n",
    "Three integers x, y, z:\n",
    "1 <= x <= 31, 1 <= y <= 31, 1970 <= z <= 2069.\n",
    "It is guaranteed that at least one format the xyz entry specifies the correct date.\n",
    "\n",
    "OUTPUT:\n",
    "Print 1 if the date is uniquely determined, and 0 otherwise.\n",
    "\n",
    "\n",
    "Test Case 1:\n",
    "INPUT:\n",
    "x = 1\n",
    "y = 2\n",
    "z = 2003\n",
    "\n",
    "OUTPUT: 0\n",
    "\n",
    "Test Case 2:\n",
    "INPUT:\n",
    "x = 2\n",
    "y = 27\n",
    "z = 2008\n",
    "\n",
    "OUTPUT: 1\n",
    "\n",
    "Description of the test cases:\n",
    "In the first test case:\n",
    "- with one recording system, the date is February 1, 2003;\n",
    "- with the other - January 2, 2003.\n",
    "It is impossible to name the date uniquely.\n",
    "\n",
    "\n",
    "In the second test case:\n",
    "the correct version of the date can be only American format: February 29, 2008.\n",
    "\"\"\""
   ]
  },
  {
   "cell_type": "code",
   "execution_count": null,
   "metadata": {},
   "outputs": [],
   "source": []
  },
  {
   "cell_type": "markdown",
   "metadata": {},
   "source": [
    "### References:\n",
    "<ol>\n",
    "<li> <a href=\"https://www.tutorialspoint.com/python/python_basic_operators.htm\">Python: Basic Operators</a> </li>\n",
    "<li> <a href=\"https://www.geeksforgeeks.org/assignment-operators-in-python/\">Assignment Operators</a> </li>\n",
    "<li> <a href=\"https://www.w3schools.com/python/python_conditions.asp\">Conditions and if statements</a> </li>\n",
    "</ol>"
   ]
  }
 ],
 "metadata": {
  "kernelspec": {
   "display_name": "Python 3 (ipykernel)",
   "language": "python",
   "name": "python3"
  },
  "language_info": {
   "codemirror_mode": {
    "name": "ipython",
    "version": 3
   },
   "file_extension": ".py",
   "mimetype": "text/x-python",
   "name": "python",
   "nbconvert_exporter": "python",
   "pygments_lexer": "ipython3",
   "version": "3.9.12"
  }
 },
 "nbformat": 4,
 "nbformat_minor": 4
}
